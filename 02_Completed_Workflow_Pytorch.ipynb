{
  "nbformat": 4,
  "nbformat_minor": 0,
  "metadata": {
    "colab": {
      "provenance": [],
      "gpuType": "T4",
      "authorship_tag": "ABX9TyNCKVIjlm/ER01APbWrsgSs",
      "include_colab_link": true
    },
    "kernelspec": {
      "name": "python3",
      "display_name": "Python 3"
    },
    "language_info": {
      "name": "python"
    },
    "accelerator": "GPU"
  },
  "cells": [
    {
      "cell_type": "markdown",
      "metadata": {
        "id": "view-in-github",
        "colab_type": "text"
      },
      "source": [
        "<a href=\"https://colab.research.google.com/github/Jeevan-Neupane/PyTorch/blob/main/Completed_Workflow_Pytorch.ipynb\" target=\"_parent\"><img src=\"https://colab.research.google.com/assets/colab-badge.svg\" alt=\"Open In Colab\"/></a>"
      ]
    },
    {
      "cell_type": "markdown",
      "source": [
        "# Putting All Steps together of Workflow"
      ],
      "metadata": {
        "id": "cXphXjQimvGZ"
      }
    },
    {
      "cell_type": "markdown",
      "source": [
        "## Libraries"
      ],
      "metadata": {
        "id": "LEjr-VQGnEBr"
      }
    },
    {
      "cell_type": "code",
      "source": [
        "import torch\n",
        "from torch import nn\n",
        "import matplotlib.pyplot as plt\n",
        "\n",
        "#Check pytroch version\n",
        "\n",
        "torch.__version__\n"
      ],
      "metadata": {
        "colab": {
          "base_uri": "https://localhost:8080/",
          "height": 37
        },
        "id": "3QepAb5YnIUz",
        "outputId": "9e249842-82b9-45d1-bc15-ba75d464dd8d"
      },
      "execution_count": 1,
      "outputs": [
        {
          "output_type": "execute_result",
          "data": {
            "text/plain": [
              "'2.5.1+cu121'"
            ],
            "application/vnd.google.colaboratory.intrinsic+json": {
              "type": "string"
            }
          },
          "metadata": {},
          "execution_count": 1
        }
      ]
    },
    {
      "cell_type": "markdown",
      "source": [
        ">Create device agnostic code"
      ],
      "metadata": {
        "id": "uPSRUQBTnPpE"
      }
    },
    {
      "cell_type": "markdown",
      "source": [
        ">This means if we have got access to GPU we can use GPU else CPU"
      ],
      "metadata": {
        "id": "ClyzK_G6nUYd"
      }
    },
    {
      "cell_type": "code",
      "source": [
        "#setup device agnostic code\n",
        "\n",
        "device = \"cuda\" if torch.cuda.is_available() else \"cpu\"\n",
        "print(f\"Using device: {device}\")"
      ],
      "metadata": {
        "colab": {
          "base_uri": "https://localhost:8080/"
        },
        "id": "9fFplDm7nf6j",
        "outputId": "f0fe85b0-9d28-41b5-97e5-49ef2892d8f7"
      },
      "execution_count": 2,
      "outputs": [
        {
          "output_type": "stream",
          "name": "stdout",
          "text": [
            "Using device: cuda\n"
          ]
        }
      ]
    },
    {
      "cell_type": "markdown",
      "source": [
        "## Data"
      ],
      "metadata": {
        "id": "eHFT8eoynumc"
      }
    },
    {
      "cell_type": "markdown",
      "source": [
        "### Create some data using the linear regression formula of y= weight*x + bias\n"
      ],
      "metadata": {
        "id": "lk03jc18or5K"
      }
    },
    {
      "cell_type": "code",
      "source": [
        "\n",
        "weight =0.7;\n",
        "bias = 0.3\n",
        "\n",
        "\n",
        "# Create range values\n",
        "\n",
        "start =0\n",
        "end =1\n",
        "step = 0.02\n",
        "\n",
        "\n",
        "# Create X and y (feature and labels)\n",
        "\n",
        "X = torch.arange(start,end,step).unsqueeze(dim=1)\n",
        "y= weight*X +bias\n",
        "\n",
        "X[:10],y[:10]"
      ],
      "metadata": {
        "colab": {
          "base_uri": "https://localhost:8080/"
        },
        "id": "ZMvf8cBUoC0F",
        "outputId": "672dd220-aedd-447d-b1f6-da0bd2a42c80"
      },
      "execution_count": 3,
      "outputs": [
        {
          "output_type": "execute_result",
          "data": {
            "text/plain": [
              "(tensor([[0.0000],\n",
              "         [0.0200],\n",
              "         [0.0400],\n",
              "         [0.0600],\n",
              "         [0.0800],\n",
              "         [0.1000],\n",
              "         [0.1200],\n",
              "         [0.1400],\n",
              "         [0.1600],\n",
              "         [0.1800]]),\n",
              " tensor([[0.3000],\n",
              "         [0.3140],\n",
              "         [0.3280],\n",
              "         [0.3420],\n",
              "         [0.3560],\n",
              "         [0.3700],\n",
              "         [0.3840],\n",
              "         [0.3980],\n",
              "         [0.4120],\n",
              "         [0.4260]]))"
            ]
          },
          "metadata": {},
          "execution_count": 3
        }
      ]
    },
    {
      "cell_type": "markdown",
      "source": [
        "### Split data"
      ],
      "metadata": {
        "id": "rF-iiCCeoeOq"
      }
    },
    {
      "cell_type": "code",
      "source": [
        "train_split = int(0.8*len(X));\n",
        "X_train, y_train = X[:train_split],y[:train_split]\n",
        "X_test,y_test= X[train_split:],y[train_split:]"
      ],
      "metadata": {
        "id": "ek-8NxE9ovwJ"
      },
      "execution_count": 4,
      "outputs": []
    },
    {
      "cell_type": "markdown",
      "source": [
        "#### Function to visualize our data"
      ],
      "metadata": {
        "id": "z11TPKxapFJp"
      }
    },
    {
      "cell_type": "code",
      "source": [
        "def plot_prediction(train_data=X_train,train_labels=y_train,test_data=X_test, test_labels=  y_test, predictions=None):\n",
        "  plt.figure(figsize=(10,7));\n",
        "  #Plot the training data\n",
        "  plt.scatter(train_data, train_labels,c=\"b\",s=4,label=\"Training Data\");\n",
        "  #Plot the test data\n",
        "  plt.scatter(test_data,test_labels,c=\"g\",s=4,label=\"Testing data\");\n",
        "\n",
        "  #If predictions are provided\n",
        "  if predictions is not None:\n",
        "    plt.scatter(test_data,predictions,c=\"r\",s=4,label=\"Predictions\");\n",
        "\n",
        "  plt.legend(prop={\"size\":14})"
      ],
      "metadata": {
        "id": "V9m4FI4LpIUy"
      },
      "execution_count": 5,
      "outputs": []
    },
    {
      "cell_type": "code",
      "source": [
        "plot_prediction()"
      ],
      "metadata": {
        "colab": {
          "base_uri": "https://localhost:8080/",
          "height": 599
        },
        "id": "37M-Fw0LpNfT",
        "outputId": "33e0b607-0a5c-478c-c85e-f299b1386ea7"
      },
      "execution_count": 6,
      "outputs": [
        {
          "output_type": "display_data",
          "data": {
            "text/plain": [
              "<Figure size 1000x700 with 1 Axes>"
            ],
            "image/png": "[encoded data removed]"
          },
          "metadata": {}
        }
      ]
    },
    {
      "cell_type": "markdown",
      "source": [
        "## Building a Model"
      ],
      "metadata": {
        "id": "YgCMesecpPhD"
      }
    },
    {
      "cell_type": "code",
      "source": [
        "# Create a linear model by subclassing nn.Module\n",
        "\n",
        "class LinearRegressionModel(nn.Module):\n",
        "  def __init__(self):\n",
        "    super().__init__();\n",
        "\n",
        "    ## Use nn.Linear() for creatine the model parameters\n",
        "    self.linear_layer = nn.Linear(in_features=1 , out_features=1);\n",
        "\n",
        "  def forward(self,x:torch.Tensor)->torch.Tensor:\n",
        "    return self.linear_layer(x)\n",
        "\n",
        "\n",
        "\n",
        "# set the manual seed\n",
        "\n",
        "torch.manual_seed(42);\n",
        "\n",
        "model_1 = LinearRegressionModel();\n",
        "print(model_1)\n",
        "print(model_1.state_dict())\n",
        "\n"
      ],
      "metadata": {
        "colab": {
          "base_uri": "https://localhost:8080/"
        },
        "id": "KuY-Iz6-pdxK",
        "outputId": "2749cc36-83d3-4af6-e0e3-0da113c5c15f"
      },
      "execution_count": 7,
      "outputs": [
        {
          "output_type": "stream",
          "name": "stdout",
          "text": [
            "LinearRegressionModel(\n",
            "  (linear_layer): Linear(in_features=1, out_features=1, bias=True)\n",
            ")\n",
            "OrderedDict([('linear_layer.weight', tensor([[0.7645]])), ('linear_layer.bias', tensor([0.8300]))])\n"
          ]
        }
      ]
    },
    {
      "cell_type": "code",
      "source": [
        "# check the model current device\n",
        "\n",
        "next(model_1.parameters()).device"
      ],
      "metadata": {
        "colab": {
          "base_uri": "https://localhost:8080/"
        },
        "id": "oFek3icVs5i9",
        "outputId": "5792d243-dbc7-4845-e335-88b16e0a7d3d"
      },
      "execution_count": 8,
      "outputs": [
        {
          "output_type": "execute_result",
          "data": {
            "text/plain": [
              "device(type='cpu')"
            ]
          },
          "metadata": {},
          "execution_count": 8
        }
      ]
    },
    {
      "cell_type": "code",
      "source": [
        "# set the model to use the target device\n",
        "\n",
        "model_1.to(device)\n",
        "next(model_1.parameters()).device"
      ],
      "metadata": {
        "colab": {
          "base_uri": "https://localhost:8080/"
        },
        "id": "G44hmqpvsyK-",
        "outputId": "f0a30b65-40f2-40c9-997d-37c6ba8fd190"
      },
      "execution_count": 9,
      "outputs": [
        {
          "output_type": "execute_result",
          "data": {
            "text/plain": [
              "device(type='cuda', index=0)"
            ]
          },
          "metadata": {},
          "execution_count": 9
        }
      ]
    },
    {
      "cell_type": "markdown",
      "source": [
        "## Train Model"
      ],
      "metadata": {
        "id": "ux5UQHJar5WM"
      }
    },
    {
      "cell_type": "markdown",
      "source": [
        "> For training we need\n",
        " <ol>\n",
        " <li>Loss funtion</li>\n",
        " <li>Optimizer </li>\n",
        " <li>Training Loop </li>\n",
        " <li> Testing Loop</li>\n",
        " </ol>\n"
      ],
      "metadata": {
        "id": "X6W3pyWdssKz"
      }
    },
    {
      "cell_type": "markdown",
      "source": [
        "### Setup Loss Funcion"
      ],
      "metadata": {
        "id": "RaVCmI61tvRM"
      }
    },
    {
      "cell_type": "code",
      "source": [
        "loss_fn = nn.L1Loss(); # same as MAE"
      ],
      "metadata": {
        "id": "OESt6qEbtzBZ"
      },
      "execution_count": 10,
      "outputs": []
    },
    {
      "cell_type": "markdown",
      "source": [
        "### Setup Optimizer"
      ],
      "metadata": {
        "id": "sU4ALT8Ut58p"
      }
    },
    {
      "cell_type": "code",
      "source": [
        "optimizer = torch.optim.SGD(params=model_1.parameters(),lr=0.01);"
      ],
      "metadata": {
        "id": "8_pwBorpuAW5"
      },
      "execution_count": 12,
      "outputs": []
    },
    {
      "cell_type": "markdown",
      "source": [
        "### Let's writing a training loop"
      ],
      "metadata": {
        "id": "PEksbnrfuLJS"
      }
    },
    {
      "cell_type": "code",
      "source": [
        "# Let's write a training loop\n",
        "\n",
        "torch.manual_seed(42);\n",
        "\n",
        "epochs = 200\n",
        "\n",
        "## We ran to error if we don't have data in GPU as our model is already in GPU\n",
        "\n",
        "X_train = X_train.to(device);\n",
        "y_train = y_train.to(device);\n",
        "X_test = X_test.to(device);\n",
        "y_test = y_test.to(device);\n",
        "\n",
        "for epoch in range(epochs):\n",
        "  # Make Model Ready for Train\n",
        "  model_1.train();\n",
        "\n",
        "  #1. Forward pass\n",
        "  y_pred = model_1(X_train);\n",
        "\n",
        "  #2. Calculate Loss\n",
        "  loss = loss_fn(y_pred,y_train);\n",
        "\n",
        "  #3. Optimizer  zero grad\n",
        "\n",
        "  optimizer.zero_grad();\n",
        "\n",
        "  #4. Perform Backpropagation\n",
        "\n",
        "  loss.backward()\n",
        "\n",
        "  #5 . Optimizer Step\n",
        "\n",
        "  optimizer.step()\n",
        "\n",
        "  ### Testing Loop\n",
        "\n",
        "  #0. Make it ready for testing\n",
        "  model_1.eval();\n",
        "\n",
        "  with torch.inference_mode():\n",
        "    test_pred = model_1(X_test);\n",
        "\n",
        "    test_loss = loss_fn(test_pred,y_test);\n",
        "\n",
        "  # Printing out what's happening\n",
        "\n",
        "  if epoch % 10 == 0:\n",
        "    print (f\"Epoch : {epoch} | Loss: {loss} | Test Loss: {test_loss}\")  ;\n",
        "\n",
        "\n",
        "\n"
      ],
      "metadata": {
        "colab": {
          "base_uri": "https://localhost:8080/"
        },
        "id": "b1KfA8pyuXsx",
        "outputId": "33cbbe9f-c3b2-482b-aea3-02ec0dc98dd8"
      },
      "execution_count": 13,
      "outputs": [
        {
          "output_type": "stream",
          "name": "stdout",
          "text": [
            "Epoch : 0 | Loss: 0.5551779866218567 | Test Loss: 0.5739762187004089\n",
            "Epoch : 10 | Loss: 0.439968079328537 | Test Loss: 0.4392664134502411\n",
            "Epoch : 20 | Loss: 0.3247582018375397 | Test Loss: 0.30455657839775085\n",
            "Epoch : 30 | Loss: 0.20954833924770355 | Test Loss: 0.16984669864177704\n",
            "Epoch : 40 | Loss: 0.09433845430612564 | Test Loss: 0.03513690456748009\n",
            "Epoch : 50 | Loss: 0.023886388167738914 | Test Loss: 0.04784907028079033\n",
            "Epoch : 60 | Loss: 0.019956795498728752 | Test Loss: 0.045803118497133255\n",
            "Epoch : 70 | Loss: 0.016517987474799156 | Test Loss: 0.037530567497015\n",
            "Epoch : 80 | Loss: 0.013089174404740334 | Test Loss: 0.02994490973651409\n",
            "Epoch : 90 | Loss: 0.009653178043663502 | Test Loss: 0.02167237363755703\n",
            "Epoch : 100 | Loss: 0.006215683650225401 | Test Loss: 0.014086711220443249\n",
            "Epoch : 110 | Loss: 0.00278724217787385 | Test Loss: 0.005814164876937866\n",
            "Epoch : 120 | Loss: 0.0012645035749301314 | Test Loss: 0.013801801018416882\n",
            "Epoch : 130 | Loss: 0.0012645035749301314 | Test Loss: 0.013801801018416882\n",
            "Epoch : 140 | Loss: 0.0012645035749301314 | Test Loss: 0.013801801018416882\n",
            "Epoch : 150 | Loss: 0.0012645035749301314 | Test Loss: 0.013801801018416882\n",
            "Epoch : 160 | Loss: 0.0012645035749301314 | Test Loss: 0.013801801018416882\n",
            "Epoch : 170 | Loss: 0.0012645035749301314 | Test Loss: 0.013801801018416882\n",
            "Epoch : 180 | Loss: 0.0012645035749301314 | Test Loss: 0.013801801018416882\n",
            "Epoch : 190 | Loss: 0.0012645035749301314 | Test Loss: 0.013801801018416882\n"
          ]
        }
      ]
    },
    {
      "cell_type": "code",
      "source": [
        "model_1.state_dict()"
      ],
      "metadata": {
        "colab": {
          "base_uri": "https://localhost:8080/"
        },
        "id": "uohr0Jl6xFyH",
        "outputId": "d1494d2e-4ecb-4e04-aaed-d3bcd383c48b"
      },
      "execution_count": 14,
      "outputs": [
        {
          "output_type": "execute_result",
          "data": {
            "text/plain": [
              "OrderedDict([('linear_layer.weight', tensor([[0.6968]], device='cuda:0')),\n",
              "             ('linear_layer.bias', tensor([0.3025], device='cuda:0'))])"
            ]
          },
          "metadata": {},
          "execution_count": 14
        }
      ]
    },
    {
      "cell_type": "markdown",
      "source": [
        "## Making and Evaluation Prediction"
      ],
      "metadata": {
        "id": "2mLh5d4jxKMX"
      }
    },
    {
      "cell_type": "code",
      "source": [
        "# Turing model into evaluation mode\n",
        "model_1.eval();\n",
        "\n",
        "# Make predictions on the test data\n",
        "\n",
        "with torch.inference_mode():\n",
        "  y_preds = model_1(X_test);\n",
        "\n",
        "y_preds\n",
        "\n",
        "\n"
      ],
      "metadata": {
        "colab": {
          "base_uri": "https://localhost:8080/"
        },
        "id": "rUZPDDIxxd-b",
        "outputId": "c8d82564-12e8-4af6-86fa-f9e85b4543db"
      },
      "execution_count": 15,
      "outputs": [
        {
          "output_type": "execute_result",
          "data": {
            "text/plain": [
              "tensor([[0.8600],\n",
              "        [0.8739],\n",
              "        [0.8878],\n",
              "        [0.9018],\n",
              "        [0.9157],\n",
              "        [0.9296],\n",
              "        [0.9436],\n",
              "        [0.9575],\n",
              "        [0.9714],\n",
              "        [0.9854]], device='cuda:0')"
            ]
          },
          "metadata": {},
          "execution_count": 15
        }
      ]
    },
    {
      "cell_type": "code",
      "source": [
        "#Visual Representation\n",
        "\n",
        "#since our model is in GPU our result is also  in GPU but Matplotlib works on CPU only so we have to change data to GPU with data agnostic code\n",
        "\n",
        "plot_prediction(predictions=y_preds.cpu())"
      ],
      "metadata": {
        "colab": {
          "base_uri": "https://localhost:8080/",
          "height": 599
        },
        "id": "q-g7d2gByNf0",
        "outputId": "a78f2d77-a3e5-4fa5-9996-3600931bdf70"
      },
      "execution_count": 17,
      "outputs": [
        {
          "output_type": "display_data",
          "data": {
            "text/plain": [
              "<Figure size 1000x700 with 1 Axes>"
            ],
            "image/png": "[encoded data removed]"
          },
          "metadata": {}
        }
      ]
    },
    {
      "cell_type": "markdown",
      "source": [
        "## Saving and Loading a trainde Model"
      ],
      "metadata": {
        "id": "7PjMt9OIy2bj"
      }
    },
    {
      "cell_type": "markdown",
      "source": [
        "### Save It"
      ],
      "metadata": {
        "id": "TkEMAW_SzxRb"
      }
    },
    {
      "cell_type": "code",
      "source": [
        "from pathlib import Path\n",
        "\n",
        "#1. Create models directory\n",
        "\n",
        "MODEL_PATH = Path(\"models\");\n",
        "\n",
        "MODEL_PATH.mkdir(parents=True,exist_ok=True)\n",
        "\n",
        "\n",
        "#2. Create a model save path\n",
        "\n",
        "MODEL_NAME = \"complete_workflow.pth\"\n",
        "\n",
        "MODEL_SAVE_PATH = MODEL_PATH/ MODEL_NAME\n",
        "\n",
        "#3. Save the Model State Dict\n",
        "\n",
        "print(f\"Saving Model To: {MODEL_SAVE_PATH}\");\n",
        "\n",
        "torch.save(obj=model_1.state_dict(),f=MODEL_SAVE_PATH)\n"
      ],
      "metadata": {
        "colab": {
          "base_uri": "https://localhost:8080/"
        },
        "id": "HBhK4hUby5PE",
        "outputId": "622fbac9-94ca-4ce9-dc96-9053e1f5234a"
      },
      "execution_count": 18,
      "outputs": [
        {
          "output_type": "stream",
          "name": "stdout",
          "text": [
            "Saving Model To: models/complete_workflow.pth\n"
          ]
        }
      ]
    },
    {
      "cell_type": "markdown",
      "source": [
        "### Load it"
      ],
      "metadata": {
        "id": "ie8NuHkTz0O8"
      }
    },
    {
      "cell_type": "code",
      "source": [
        "# create new insttance of our model\n",
        "loaded_model = LinearRegressionModel();\n",
        "\n",
        "\n",
        "#load the saved model dict\n",
        "\n",
        "loaded_model.load_state_dict(torch.load(MODEL_SAVE_PATH));\n",
        "\n",
        "\n",
        "# we have loaded in CPU make it in GPU\n",
        "\n",
        "loaded_model.to(device)"
      ],
      "metadata": {
        "colab": {
          "base_uri": "https://localhost:8080/"
        },
        "id": "eXYNctT8z2aY",
        "outputId": "3d0ca301-4f29-49b3-edbe-15bb0617c529"
      },
      "execution_count": 23,
      "outputs": [
        {
          "output_type": "stream",
          "name": "stderr",
          "text": [
            "<ipython-input-23-8bfd07b84c95>:7: FutureWarning: You are using `torch.load` with `weights_only=False` (the current default value), which uses the default pickle module implicitly. It is possible to construct malicious pickle data which will execute arbitrary code during unpickling (See https://github.com/pytorch/pytorch/blob/main/SECURITY.md#untrusted-models for more details). In a future release, the default value for `weights_only` will be flipped to `True`. This limits the functions that could be executed during unpickling. Arbitrary objects will no longer be allowed to be loaded via this mode unless they are explicitly allowlisted by the user via `torch.serialization.add_safe_globals`. We recommend you start setting `weights_only=True` for any use case where you don't have full control of the loaded file. Please open an issue on GitHub for any issues related to this experimental feature.\n",
            "  loaded_model.load_state_dict(torch.load(MODEL_SAVE_PATH));\n"
          ]
        },
        {
          "output_type": "execute_result",
          "data": {
            "text/plain": [
              "LinearRegressionModel(\n",
              "  (linear_layer): Linear(in_features=1, out_features=1, bias=True)\n",
              ")"
            ]
          },
          "metadata": {},
          "execution_count": 23
        }
      ]
    },
    {
      "cell_type": "code",
      "source": [
        "loaded_model.state_dict()"
      ],
      "metadata": {
        "colab": {
          "base_uri": "https://localhost:8080/"
        },
        "id": "YHhJc-H20QYT",
        "outputId": "c76b3459-1601-4861-85e8-779a993642b3"
      },
      "execution_count": 24,
      "outputs": [
        {
          "output_type": "execute_result",
          "data": {
            "text/plain": [
              "OrderedDict([('linear_layer.weight', tensor([[0.6968]], device='cuda:0')),\n",
              "             ('linear_layer.bias', tensor([0.3025], device='cuda:0'))])"
            ]
          },
          "metadata": {},
          "execution_count": 24
        }
      ]
    },
    {
      "cell_type": "markdown",
      "source": [
        "### Evaluate the Loaded Model"
      ],
      "metadata": {
        "id": "OBAVRhs40XSi"
      }
    },
    {
      "cell_type": "code",
      "source": [
        "loaded_model.eval()\n",
        "\n",
        "with torch.inference_mode():\n",
        "  loaded_model_preds = loaded_model(X_test);\n",
        "\n",
        "loaded_model_preds== y_preds"
      ],
      "metadata": {
        "colab": {
          "base_uri": "https://localhost:8080/"
        },
        "id": "XrMRJqpu0avz",
        "outputId": "a7f01485-acdb-415a-dd41-76c9b8fa73e9"
      },
      "execution_count": 29,
      "outputs": [
        {
          "output_type": "execute_result",
          "data": {
            "text/plain": [
              "tensor([[True],\n",
              "        [True],\n",
              "        [True],\n",
              "        [True],\n",
              "        [True],\n",
              "        [True],\n",
              "        [True],\n",
              "        [True],\n",
              "        [True],\n",
              "        [True]], device='cuda:0')"
            ]
          },
          "metadata": {},
          "execution_count": 29
        }
      ]
    }
  ]
}
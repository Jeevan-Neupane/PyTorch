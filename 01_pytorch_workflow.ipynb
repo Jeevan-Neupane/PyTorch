{
  "nbformat": 4,
  "nbformat_minor": 0,
  "metadata": {
    "colab": {
      "provenance": [],
      "authorship_tag": "ABX9TyMyof3fc84awcfXqH1tCrVT",
      "include_colab_link": true
    },
    "kernelspec": {
      "name": "python3",
      "display_name": "Python 3"
    },
    "language_info": {
      "name": "python"
    }
  },
  "cells": [
    {
      "cell_type": "markdown",
      "metadata": {
        "id": "view-in-github",
        "colab_type": "text"
      },
      "source": [
        "<a href=\"https://colab.research.google.com/github/Jeevan-Neupane/PyTorch/blob/main/01_pytorch_workflow.ipynb\" target=\"_parent\"><img src=\"https://colab.research.google.com/assets/colab-badge.svg\" alt=\"Open In Colab\"/></a>"
      ]
    },
    {
      "cell_type": "markdown",
      "source": [
        "# Pytorch Workflow"
      ],
      "metadata": {
        "id": "VctfqPlZkqgL"
      }
    },
    {
      "cell_type": "markdown",
      "source": [
        "## What we're going to cover"
      ],
      "metadata": {
        "id": "sFopWu3A9K6d"
      }
    },
    {
      "cell_type": "code",
      "source": [
        "import torch\n",
        "from torch import nn\n",
        "import matplotlib.pyplot as plt\n",
        "\n",
        "\n",
        "torch.__version__"
      ],
      "metadata": {
        "colab": {
          "base_uri": "https://localhost:8080/",
          "height": 37
        },
        "id": "gcRerwUB9TXc",
        "outputId": "18486235-0ebd-4acd-955f-2d8ccdc7bcc4"
      },
      "execution_count": 2,
      "outputs": [
        {
          "output_type": "execute_result",
          "data": {
            "text/plain": [
              "'2.5.0+cu121'"
            ],
            "application/vnd.google.colaboratory.intrinsic+json": {
              "type": "string"
            }
          },
          "metadata": {},
          "execution_count": 2
        }
      ]
    },
    {
      "cell_type": "markdown",
      "source": [
        "## Data (Preparing and loading)"
      ],
      "metadata": {
        "id": "i7LZ3cAD-80k"
      }
    },
    {
      "cell_type": "markdown",
      "source": [
        "> We will use linear regression to create data and see if we can build a model"
      ],
      "metadata": {
        "id": "nldBlDH3CiA5"
      }
    },
    {
      "cell_type": "code",
      "source": [
        "# y= ax + b (a=weight and b= bias)\n",
        "\n",
        "weight=0.7\n",
        "bias=0.3\n",
        "\n",
        "#creaate data\n",
        "\n",
        "start=0\n",
        "end=1\n",
        "step=0.02\n",
        "\n",
        "X=torch.arange(start,end,step).unsqueeze(dim=1)\n",
        "\n",
        "y= weight * X +bias"
      ],
      "metadata": {
        "id": "jNDWEj8mCptu"
      },
      "execution_count": 16,
      "outputs": []
    },
    {
      "cell_type": "code",
      "source": [],
      "metadata": {
        "colab": {
          "base_uri": "https://localhost:8080/"
        },
        "id": "Zh79pc2rD554",
        "outputId": "63b7d63e-591c-4c5b-97d1-f8812190f7d0"
      },
      "execution_count": 11,
      "outputs": [
        {
          "output_type": "stream",
          "name": "stdout",
          "text": [
            "Original shape: torch.Size([3, 3])\n",
            "Shape after unsqueeze at position 0: torch.Size([1, 3, 3])\n",
            "Shape with batch and channel dimensions: torch.Size([1, 3, 1, 3])\n"
          ]
        }
      ]
    }
  ]
}
{
  "nbformat": 4,
  "nbformat_minor": 0,
  "metadata": {
    "colab": {
      "provenance": [],
      "authorship_tag": "ABX9TyM0xSFjXsQDzcu/jbqBd9Ty",
      "include_colab_link": true
    },
    "kernelspec": {
      "name": "python3",
      "display_name": "Python 3"
    },
    "language_info": {
      "name": "python"
    }
  },
  "cells": [
    {
      "cell_type": "markdown",
      "metadata": {
        "id": "view-in-github",
        "colab_type": "text"
      },
      "source": [
        "<a href=\"https://colab.research.google.com/github/Jeevan-Neupane/PyTorch/blob/main/02_Pytorch_Workflow.ipynb\" target=\"_parent\"><img src=\"https://colab.research.google.com/assets/colab-badge.svg\" alt=\"Open In Colab\"/></a>"
      ]
    },
    {
      "cell_type": "markdown",
      "source": [
        "#Pytorch Workflow"
      ],
      "metadata": {
        "id": "RtfMljkSPVD7"
      }
    },
    {
      "cell_type": "markdown",
      "source": [
        "## What we are covering"
      ],
      "metadata": {
        "id": "2JeIuZwZRWvP"
      }
    },
    {
      "cell_type": "code",
      "source": [
        "what_we_are_covering= {\n",
        "    1:\"Data (Prepare and load)\",\n",
        "    2:\"build model\",\n",
        "    3:\"fitting the model to data(training)\",\n",
        "    4:\"making predictions  and evaluating a model(inference)\",\n",
        "    5:\"saving and loading a model\",\n",
        "    6:\"putting it all together\"\n",
        "}\n"
      ],
      "metadata": {
        "id": "XhnaJIR4RY6t"
      },
      "execution_count": 191,
      "outputs": []
    },
    {
      "cell_type": "code",
      "source": [
        "what_we_are_covering"
      ],
      "metadata": {
        "colab": {
          "base_uri": "https://localhost:8080/"
        },
        "id": "j1XxqY44R1Jm",
        "outputId": "4dd8e519-2c4c-42e2-892f-b4ce38576435"
      },
      "execution_count": 192,
      "outputs": [
        {
          "output_type": "execute_result",
          "data": {
            "text/plain": [
              "{1: 'Data (Prepare and load)',\n",
              " 2: 'build model',\n",
              " 3: 'fitting the model to data(training)',\n",
              " 4: 'making predictions  and evaluating a model(inference)',\n",
              " 5: 'saving and loading a model',\n",
              " 6: 'putting it all together'}"
            ]
          },
          "metadata": {},
          "execution_count": 192
        }
      ]
    },
    {
      "cell_type": "code",
      "source": [
        "import torch\n",
        "from torch import nn\n",
        "import matplotlib.pyplot as plt\n",
        "\n",
        "torch.__version__"
      ],
      "metadata": {
        "colab": {
          "base_uri": "https://localhost:8080/",
          "height": 37
        },
        "id": "pcmQlhmhR2pm",
        "outputId": "32988760-f3cc-48a2-e22b-ce111cb6891e"
      },
      "execution_count": 193,
      "outputs": [
        {
          "output_type": "execute_result",
          "data": {
            "text/plain": [
              "'2.5.1+cu121'"
            ],
            "application/vnd.google.colaboratory.intrinsic+json": {
              "type": "string"
            }
          },
          "metadata": {},
          "execution_count": 193
        }
      ]
    },
    {
      "cell_type": "markdown",
      "source": [
        "## 01. Data (Preparing and Loading)"
      ],
      "metadata": {
        "id": "BXkdlRF4Si2l"
      }
    },
    {
      "cell_type": "markdown",
      "source": [
        "### To show the two steps of ML\n",
        "### We are going to create some known data using the linear regression formula\n"
      ],
      "metadata": {
        "id": "jHNo_bloSlfW"
      }
    },
    {
      "cell_type": "code",
      "source": [
        "# Create *known* parameter\n",
        "weight = 0.7\n",
        "bias = 0.3\n",
        "\n",
        "start =0\n",
        "end=1\n",
        "step =0.02\n",
        "X= torch.arange(start,end,step).unsqueeze(dim=1)\n",
        "y = weight * X+bias\n",
        "y[:10]"
      ],
      "metadata": {
        "colab": {
          "base_uri": "https://localhost:8080/"
        },
        "id": "y6LI1XKUTyQE",
        "outputId": "6e5cc131-5327-4ba8-a4f0-c3d71fc5dd93"
      },
      "execution_count": 194,
      "outputs": [
        {
          "output_type": "execute_result",
          "data": {
            "text/plain": [
              "tensor([[0.3000],\n",
              "        [0.3140],\n",
              "        [0.3280],\n",
              "        [0.3420],\n",
              "        [0.3560],\n",
              "        [0.3700],\n",
              "        [0.3840],\n",
              "        [0.3980],\n",
              "        [0.4120],\n",
              "        [0.4260]])"
            ]
          },
          "metadata": {},
          "execution_count": 194
        }
      ]
    },
    {
      "cell_type": "code",
      "source": [
        "len(X),len(y)"
      ],
      "metadata": {
        "colab": {
          "base_uri": "https://localhost:8080/"
        },
        "id": "3JDwJgJoUFaM",
        "outputId": "0b2f7cae-7833-42f4-fdde-af582afd168b"
      },
      "execution_count": 195,
      "outputs": [
        {
          "output_type": "execute_result",
          "data": {
            "text/plain": [
              "(50, 50)"
            ]
          },
          "metadata": {},
          "execution_count": 195
        }
      ]
    },
    {
      "cell_type": "markdown",
      "source": [
        "### Split into train and test"
      ],
      "metadata": {
        "id": "vY5O4a9bUsvD"
      }
    },
    {
      "cell_type": "code",
      "source": [
        "train_split  = int(0.8 *len(X));\n",
        "train_split"
      ],
      "metadata": {
        "colab": {
          "base_uri": "https://localhost:8080/"
        },
        "id": "b3imD52UWMGY",
        "outputId": "c76dcb6b-d152-41f3-a7e4-ac76093149ab"
      },
      "execution_count": 196,
      "outputs": [
        {
          "output_type": "execute_result",
          "data": {
            "text/plain": [
              "40"
            ]
          },
          "metadata": {},
          "execution_count": 196
        }
      ]
    },
    {
      "cell_type": "code",
      "source": [
        "X_train, y_train = X[:train_split], y[:train_split]\n",
        "X_test, y_test = X[train_split:], y[train_split:]\n",
        "\n",
        "X_test, y_test"
      ],
      "metadata": {
        "colab": {
          "base_uri": "https://localhost:8080/"
        },
        "id": "6s_ByW2NWUmg",
        "outputId": "55ed80b4-ab6a-4fb0-ff20-0fa0f6b66019"
      },
      "execution_count": 197,
      "outputs": [
        {
          "output_type": "execute_result",
          "data": {
            "text/plain": [
              "(tensor([[0.8000],\n",
              "         [0.8200],\n",
              "         [0.8400],\n",
              "         [0.8600],\n",
              "         [0.8800],\n",
              "         [0.9000],\n",
              "         [0.9200],\n",
              "         [0.9400],\n",
              "         [0.9600],\n",
              "         [0.9800]]),\n",
              " tensor([[0.8600],\n",
              "         [0.8740],\n",
              "         [0.8880],\n",
              "         [0.9020],\n",
              "         [0.9160],\n",
              "         [0.9300],\n",
              "         [0.9440],\n",
              "         [0.9580],\n",
              "         [0.9720],\n",
              "         [0.9860]]))"
            ]
          },
          "metadata": {},
          "execution_count": 197
        }
      ]
    },
    {
      "cell_type": "code",
      "source": [
        "len(X_train),len(y_train),len(X_test),len(y_test)"
      ],
      "metadata": {
        "colab": {
          "base_uri": "https://localhost:8080/"
        },
        "id": "fFvfzbw1WoEB",
        "outputId": "880f04d4-cdc6-4f6e-ae86-8aac97d5e03d"
      },
      "execution_count": 198,
      "outputs": [
        {
          "output_type": "execute_result",
          "data": {
            "text/plain": [
              "(40, 40, 10, 10)"
            ]
          },
          "metadata": {},
          "execution_count": 198
        }
      ]
    },
    {
      "cell_type": "markdown",
      "source": [
        "### Visualize our data"
      ],
      "metadata": {
        "id": "T6umuHhPWvBA"
      }
    },
    {
      "cell_type": "code",
      "source": [
        "def plot_prediction(train_data=X_train,train_labels=y_train,test_data=X_test, test_labels=  y_test, predictions=None):\n",
        "  plt.figure(figsize=(10,7));\n",
        "  #Plot the training data\n",
        "  plt.scatter(train_data, train_labels,c=\"b\",s=4,label=\"Training Data\");\n",
        "  #Plot the test data\n",
        "  plt.scatter(test_data,test_labels,c=\"g\",s=4,label=\"Testing data\");\n",
        "\n",
        "  #If predictions are provided\n",
        "  if predictions is not None:\n",
        "    plt.scatter(test_data,predictions,c=\"r\",s=4,label=\"Predictions\");\n",
        "\n",
        "  plt.legend(prop={\"size\":14})\n"
      ],
      "metadata": {
        "id": "_jJlDOmKXC32"
      },
      "execution_count": 199,
      "outputs": []
    },
    {
      "cell_type": "code",
      "source": [
        "plot_prediction()"
      ],
      "metadata": {
        "colab": {
          "base_uri": "https://localhost:8080/",
          "height": 599
        },
        "id": "_mnuz1Z0YYGe",
        "outputId": "ab55dab7-1e3e-4b1b-bed2-b289a6d9a64b"
      },
      "execution_count": 200,
      "outputs": [
        {
          "output_type": "display_data",
          "data": {
            "text/plain": [
              "<Figure size 1000x700 with 1 Axes>"
            ],
            "image/png": "[encoded data removed]"
          },
          "metadata": {}
        }
      ]
    },
    {
      "cell_type": "markdown",
      "source": [
        "## 02. Building a Model For Linear Regression"
      ],
      "metadata": {
        "id": "68OfosDKYaOG"
      }
    },
    {
      "cell_type": "code",
      "source": [
        "class LinearRegressionModel(nn.Module):\n",
        "    def __init__(self):\n",
        "        super().__init__()\n",
        "        self.weights = nn.Parameter(torch.randn(1, dtype=torch.float), requires_grad=True)\n",
        "        self.bias = nn.Parameter(torch.randn(1, dtype=torch.float), requires_grad=True)\n",
        "\n",
        "    def forward(self, x: torch.Tensor) -> torch.Tensor:\n",
        "        return self.weights * x + self.bias\n"
      ],
      "metadata": {
        "id": "St-l4cQPZGf3"
      },
      "execution_count": 201,
      "outputs": []
    },
    {
      "cell_type": "markdown",
      "source": [
        "### Checking the contents of our pytorch model\n",
        "\n",
        ""
      ],
      "metadata": {
        "id": "MLqryX4kV8rg"
      }
    },
    {
      "cell_type": "code",
      "source": [
        "torch.manual_seed(42);\n",
        "\n",
        "model_0 = LinearRegressionModel();\n",
        "list(model_0.parameters())"
      ],
      "metadata": {
        "colab": {
          "base_uri": "https://localhost:8080/"
        },
        "id": "kfgLZEVAYffc",
        "outputId": "ad68f11b-678e-47bc-d485-e806b21e1d1a"
      },
      "execution_count": 202,
      "outputs": [
        {
          "output_type": "execute_result",
          "data": {
            "text/plain": [
              "[Parameter containing:\n",
              " tensor([0.3367], requires_grad=True),\n",
              " Parameter containing:\n",
              " tensor([0.1288], requires_grad=True)]"
            ]
          },
          "metadata": {},
          "execution_count": 202
        }
      ]
    },
    {
      "cell_type": "code",
      "source": [
        "#To get the state we cans use  .state_dict().\n",
        "model_0.state_dict()"
      ],
      "metadata": {
        "colab": {
          "base_uri": "https://localhost:8080/"
        },
        "id": "ZpDRgz0YYsks",
        "outputId": "4584c98e-903e-427b-8e6b-ce455198442f"
      },
      "execution_count": 203,
      "outputs": [
        {
          "output_type": "execute_result",
          "data": {
            "text/plain": [
              "OrderedDict([('weights', tensor([0.3367])), ('bias', tensor([0.1288]))])"
            ]
          },
          "metadata": {},
          "execution_count": 203
        }
      ]
    },
    {
      "cell_type": "markdown",
      "source": [
        "### Making Predictions using `torch.inference_mode()`"
      ],
      "metadata": {
        "id": "PmRECpE6Y1rK"
      }
    },
    {
      "cell_type": "code",
      "source": [
        "# Making predictions with model\n",
        "with torch.inference_mode():\n",
        "  y_preds= model_0(X_test);\n",
        "\n",
        "y_preds"
      ],
      "metadata": {
        "colab": {
          "base_uri": "https://localhost:8080/"
        },
        "id": "mRLrOZ-RZEr-",
        "outputId": "bb5ba2a9-b262-486e-af87-0231943a98e0"
      },
      "execution_count": 204,
      "outputs": [
        {
          "output_type": "execute_result",
          "data": {
            "text/plain": [
              "tensor([[0.3982],\n",
              "        [0.4049],\n",
              "        [0.4116],\n",
              "        [0.4184],\n",
              "        [0.4251],\n",
              "        [0.4318],\n",
              "        [0.4386],\n",
              "        [0.4453],\n",
              "        [0.4520],\n",
              "        [0.4588]])"
            ]
          },
          "metadata": {},
          "execution_count": 204
        }
      ]
    },
    {
      "cell_type": "code",
      "source": [
        "y_test"
      ],
      "metadata": {
        "colab": {
          "base_uri": "https://localhost:8080/"
        },
        "id": "R9S3_OIcafYd",
        "outputId": "d32c71d3-661e-49ab-9377-8fb6b1581744"
      },
      "execution_count": 205,
      "outputs": [
        {
          "output_type": "execute_result",
          "data": {
            "text/plain": [
              "tensor([[0.8600],\n",
              "        [0.8740],\n",
              "        [0.8880],\n",
              "        [0.9020],\n",
              "        [0.9160],\n",
              "        [0.9300],\n",
              "        [0.9440],\n",
              "        [0.9580],\n",
              "        [0.9720],\n",
              "        [0.9860]])"
            ]
          },
          "metadata": {},
          "execution_count": 205
        }
      ]
    },
    {
      "cell_type": "code",
      "source": [
        "plot_prediction(predictions=y_preds )"
      ],
      "metadata": {
        "colab": {
          "base_uri": "https://localhost:8080/",
          "height": 599
        },
        "id": "OG9X8OXkaiTx",
        "outputId": "9d2f21da-93f7-4ab9-d0f0-8d49d2f3f84f"
      },
      "execution_count": 206,
      "outputs": [
        {
          "output_type": "display_data",
          "data": {
            "text/plain": [
              "<Figure size 1000x700 with 1 Axes>"
            ],
            "image/png": "[encoded data removed]"
          },
          "metadata": {}
        }
      ]
    },
    {
      "cell_type": "markdown",
      "source": [
        "## 3.Train Model"
      ],
      "metadata": {
        "id": "ERbpBvnlc7W3"
      }
    },
    {
      "cell_type": "markdown",
      "source": [
        "Unknown Paramter -> Know Paramter"
      ],
      "metadata": {
        "id": "00aQs64Ec_Aw"
      }
    },
    {
      "cell_type": "markdown",
      "source": [
        "Things we need to train:\n",
        "\n",
        "**Loss Functoin :** A function to measure how worng the predictions of model are\n",
        "**Optimizer**: Takes into acocount the loss of a model an adjust the model's paramter"
      ],
      "metadata": {
        "id": "jkDD08QkdBTn"
      }
    },
    {
      "cell_type": "markdown",
      "source": [
        "### Setup a loss function"
      ],
      "metadata": {
        "id": "7QwHKhpkduUl"
      }
    },
    {
      "cell_type": "code",
      "source": [
        "loss_fn= nn.L1Loss();\n"
      ],
      "metadata": {
        "id": "3cdWW6cofsmi"
      },
      "execution_count": 207,
      "outputs": []
    },
    {
      "cell_type": "markdown",
      "source": [
        "### Setup Optimizer"
      ],
      "metadata": {
        "id": "3DRoBcMyfzGU"
      }
    },
    {
      "cell_type": "code",
      "source": [
        "optimizer = torch.optim.SGD(params=model_0.parameters(),lr=0.001) #(Stochastic gradient descent) #lr= learning rate\n",
        "\n"
      ],
      "metadata": {
        "id": "Ii-3Bfh0f14q"
      },
      "execution_count": 208,
      "outputs": []
    },
    {
      "cell_type": "markdown",
      "source": [
        "### Training and Testing Loop"
      ],
      "metadata": {
        "id": "n6X393nfhfTE"
      }
    },
    {
      "cell_type": "code",
      "source": [
        "model_0.state_dict()"
      ],
      "metadata": {
        "colab": {
          "base_uri": "https://localhost:8080/"
        },
        "id": "-71UNpbIqIqA",
        "outputId": "7730fc33-e4a3-4e46-9826-d708a59cdc04"
      },
      "execution_count": 209,
      "outputs": [
        {
          "output_type": "execute_result",
          "data": {
            "text/plain": [
              "OrderedDict([('weights', tensor([0.3367])), ('bias', tensor([0.1288]))])"
            ]
          },
          "metadata": {},
          "execution_count": 209
        }
      ]
    },
    {
      "cell_type": "code",
      "source": [
        "weight,bias"
      ],
      "metadata": {
        "colab": {
          "base_uri": "https://localhost:8080/"
        },
        "id": "JAAZSlobqaf-",
        "outputId": "1455567e-a2a6-4888-d195-e9ec8d6808cd"
      },
      "execution_count": 210,
      "outputs": [
        {
          "output_type": "execute_result",
          "data": {
            "text/plain": [
              "(0.7, 0.3)"
            ]
          },
          "metadata": {},
          "execution_count": 210
        }
      ]
    },
    {
      "cell_type": "code",
      "source": [
        " #Training Loop\n",
        "torch.manual_seed(42)\n",
        "\n",
        "epoch_count=[];\n",
        "train_loss_values=[];\n",
        "test_loss_values=[];\n",
        "\n",
        "epochs = 1000\n",
        "\n",
        "for epoch in range(epochs):\n",
        "\n",
        "  #Set the model to training mode\n",
        "  model_0.train();\n",
        "\n",
        "  #1. Forward Pass\n",
        "  y_pred= model_0(X_train);\n",
        "\n",
        "  #2 . Calculate the loss\n",
        "  loss = loss_fn(y_pred,y_train);\n",
        "  # print(f\"Loss at epoch {epoch} : {loss}\");\n",
        "\n",
        "\n",
        "  #3. Optimizer zero grad\n",
        "  optimizer.zero_grad();\n",
        "\n",
        "  #4. Perform backpropagation on the loss with respect tot he paramter of the model\n",
        "  loss.backward();\n",
        "\n",
        "  # 5. Step the optimizer (perform gradient descent)\n",
        "  optimizer.step();\n",
        "\n",
        "  model_0.eval(); #turns of gradient tracking\n",
        "\n",
        "  with torch.inference_mode():\n",
        "    #1. Do the forward pass\n",
        "    test_pred = model_0(X_test)\n",
        "\n",
        "    #2. Calculate the loss\n",
        "    test_loss = loss_fn(test_pred,y_test);\n",
        "\n",
        "    if epoch % 10 == 0:\n",
        "      print(f\"Epoch: {epoch} | Loss: {loss} | Test Loss: {test_loss}\")\n",
        "      epoch_count.append(epoch);\n",
        "      train_loss_values.append(loss.detach().numpy());\n",
        "      test_loss_values.append(test_loss.detach().numpy());\n",
        "\n"
      ],
      "metadata": {
        "colab": {
          "base_uri": "https://localhost:8080/"
        },
        "id": "8knkBQTCrlg9",
        "outputId": "3ba5051a-18f0-4ba1-fbe2-4e850c99921e"
      },
      "execution_count": 211,
      "outputs": [
        {
          "output_type": "stream",
          "name": "stdout",
          "text": [
            "Epoch: 0 | Loss: 0.31288138031959534 | Test Loss: 0.4931890368461609\n",
            "Epoch: 10 | Loss: 0.3013603389263153 | Test Loss: 0.4797181189060211\n",
            "Epoch: 20 | Loss: 0.28983938694000244 | Test Loss: 0.4662471413612366\n",
            "Epoch: 30 | Loss: 0.2783183455467224 | Test Loss: 0.4527761936187744\n",
            "Epoch: 40 | Loss: 0.26679736375808716 | Test Loss: 0.43930521607398987\n",
            "Epoch: 50 | Loss: 0.2552763819694519 | Test Loss: 0.4258342385292053\n",
            "Epoch: 60 | Loss: 0.24375538527965546 | Test Loss: 0.41236335039138794\n",
            "Epoch: 70 | Loss: 0.232234388589859 | Test Loss: 0.398892343044281\n",
            "Epoch: 80 | Loss: 0.22071340680122375 | Test Loss: 0.38542139530181885\n",
            "Epoch: 90 | Loss: 0.2091923952102661 | Test Loss: 0.3719504475593567\n",
            "Epoch: 100 | Loss: 0.19767141342163086 | Test Loss: 0.35847947001457214\n",
            "Epoch: 110 | Loss: 0.18615040183067322 | Test Loss: 0.34500852227211\n",
            "Epoch: 120 | Loss: 0.17462942004203796 | Test Loss: 0.33153754472732544\n",
            "Epoch: 130 | Loss: 0.16310855746269226 | Test Loss: 0.3180667459964752\n",
            "Epoch: 140 | Loss: 0.15158770978450775 | Test Loss: 0.304595947265625\n",
            "Epoch: 150 | Loss: 0.14006686210632324 | Test Loss: 0.2911251187324524\n",
            "Epoch: 160 | Loss: 0.12854602932929993 | Test Loss: 0.2776543200016022\n",
            "Epoch: 170 | Loss: 0.11702518165111542 | Test Loss: 0.26418352127075195\n",
            "Epoch: 180 | Loss: 0.10654274374246597 | Test Loss: 0.251315176486969\n",
            "Epoch: 190 | Loss: 0.09747617691755295 | Test Loss: 0.2392154484987259\n",
            "Epoch: 200 | Loss: 0.08973254263401031 | Test Loss: 0.22795839607715607\n",
            "Epoch: 210 | Loss: 0.08306284993886948 | Test Loss: 0.21740305423736572\n",
            "Epoch: 220 | Loss: 0.07729282230138779 | Test Loss: 0.20750825107097626\n",
            "Epoch: 230 | Loss: 0.07242877781391144 | Test Loss: 0.19840054214000702\n",
            "Epoch: 240 | Loss: 0.06828799843788147 | Test Loss: 0.18992407619953156\n",
            "Epoch: 250 | Loss: 0.06476505100727081 | Test Loss: 0.18208928406238556\n",
            "Epoch: 260 | Loss: 0.06174134090542793 | Test Loss: 0.17478716373443604\n",
            "Epoch: 270 | Loss: 0.05915876477956772 | Test Loss: 0.16802480816841125\n",
            "Epoch: 280 | Loss: 0.0569603331387043 | Test Loss: 0.161748006939888\n",
            "Epoch: 290 | Loss: 0.05514555424451828 | Test Loss: 0.15608695149421692\n",
            "Epoch: 300 | Loss: 0.05357731133699417 | Test Loss: 0.15086300671100616\n",
            "Epoch: 310 | Loss: 0.05218071490526199 | Test Loss: 0.14595307409763336\n",
            "Epoch: 320 | Loss: 0.05105169489979744 | Test Loss: 0.1415499746799469\n",
            "Epoch: 330 | Loss: 0.050030313432216644 | Test Loss: 0.1374681293964386\n",
            "Epoch: 340 | Loss: 0.049160152673721313 | Test Loss: 0.13370750844478607\n",
            "Epoch: 350 | Loss: 0.04836020991206169 | Test Loss: 0.13020753860473633\n",
            "Epoch: 360 | Loss: 0.04769856110215187 | Test Loss: 0.12709848582744598\n",
            "Epoch: 370 | Loss: 0.04703690856695175 | Test Loss: 0.12398938834667206\n",
            "Epoch: 380 | Loss: 0.04650093987584114 | Test Loss: 0.12147434055805206\n",
            "Epoch: 390 | Loss: 0.045996345579624176 | Test Loss: 0.11902527511119843\n",
            "Epoch: 400 | Loss: 0.04549176245927811 | Test Loss: 0.11657620966434479\n",
            "Epoch: 410 | Loss: 0.045014552772045135 | Test Loss: 0.11432783305644989\n",
            "Epoch: 420 | Loss: 0.04461454600095749 | Test Loss: 0.11254779994487762\n",
            "Epoch: 430 | Loss: 0.04421453922986984 | Test Loss: 0.11076776683330536\n",
            "Epoch: 440 | Loss: 0.043814532458782196 | Test Loss: 0.1089877337217331\n",
            "Epoch: 450 | Loss: 0.04341452196240425 | Test Loss: 0.10720770061016083\n",
            "Epoch: 460 | Loss: 0.043014515191316605 | Test Loss: 0.10542766749858856\n",
            "Epoch: 470 | Loss: 0.04265119880437851 | Test Loss: 0.10419009625911713\n",
            "Epoch: 480 | Loss: 0.04230218380689621 | Test Loss: 0.1030881255865097\n",
            "Epoch: 490 | Loss: 0.04195316880941391 | Test Loss: 0.10198615491390228\n",
            "Epoch: 500 | Loss: 0.04160415381193161 | Test Loss: 0.10088418424129486\n",
            "Epoch: 510 | Loss: 0.04125513881444931 | Test Loss: 0.09978221356868744\n",
            "Epoch: 520 | Loss: 0.04090612381696701 | Test Loss: 0.09868024289608002\n",
            "Epoch: 530 | Loss: 0.04055710881948471 | Test Loss: 0.0975782722234726\n",
            "Epoch: 540 | Loss: 0.04020809382200241 | Test Loss: 0.09647630155086517\n",
            "Epoch: 550 | Loss: 0.03985908254981041 | Test Loss: 0.09537436813116074\n",
            "Epoch: 560 | Loss: 0.03951007127761841 | Test Loss: 0.09427239745855331\n",
            "Epoch: 570 | Loss: 0.03916105255484581 | Test Loss: 0.09317042678594589\n",
            "Epoch: 580 | Loss: 0.03881204128265381 | Test Loss: 0.09206845611333847\n",
            "Epoch: 590 | Loss: 0.03846302255988121 | Test Loss: 0.09096648544073105\n",
            "Epoch: 600 | Loss: 0.03811401128768921 | Test Loss: 0.08986451476812363\n",
            "Epoch: 610 | Loss: 0.03776499256491661 | Test Loss: 0.0887625440955162\n",
            "Epoch: 620 | Loss: 0.03741598129272461 | Test Loss: 0.08766057342290878\n",
            "Epoch: 630 | Loss: 0.037067197263240814 | Test Loss: 0.08662726730108261\n",
            "Epoch: 640 | Loss: 0.03672432154417038 | Test Loss: 0.08579986542463303\n",
            "Epoch: 650 | Loss: 0.03638043254613876 | Test Loss: 0.08497253060340881\n",
            "Epoch: 660 | Loss: 0.036036938428878784 | Test Loss: 0.08421380817890167\n",
            "Epoch: 670 | Loss: 0.035693906247615814 | Test Loss: 0.08338643610477448\n",
            "Epoch: 680 | Loss: 0.035350002348423004 | Test Loss: 0.08255907148122787\n",
            "Epoch: 690 | Loss: 0.035006679594516754 | Test Loss: 0.08180035650730133\n",
            "Epoch: 700 | Loss: 0.03466346859931946 | Test Loss: 0.08097299933433533\n",
            "Epoch: 710 | Loss: 0.03431956097483635 | Test Loss: 0.08014564216136932\n",
            "Epoch: 720 | Loss: 0.03397642448544502 | Test Loss: 0.07938691228628159\n",
            "Epoch: 730 | Loss: 0.0336330309510231 | Test Loss: 0.07855955511331558\n",
            "Epoch: 740 | Loss: 0.03328912332653999 | Test Loss: 0.07773219794034958\n",
            "Epoch: 750 | Loss: 0.032946161925792694 | Test Loss: 0.07697348296642303\n",
            "Epoch: 760 | Loss: 0.03260258957743645 | Test Loss: 0.07614611089229584\n",
            "Epoch: 770 | Loss: 0.0322587676346302 | Test Loss: 0.07538740336894989\n",
            "Epoch: 780 | Loss: 0.031915903091430664 | Test Loss: 0.07456003129482269\n",
            "Epoch: 790 | Loss: 0.031572166830301285 | Test Loss: 0.07373266667127609\n",
            "Epoch: 800 | Loss: 0.03122851625084877 | Test Loss: 0.07297395914793015\n",
            "Epoch: 810 | Loss: 0.03088562563061714 | Test Loss: 0.07214658707380295\n",
            "Epoch: 820 | Loss: 0.03054172359406948 | Test Loss: 0.07131922990083694\n",
            "Epoch: 830 | Loss: 0.030198251828551292 | Test Loss: 0.0705605149269104\n",
            "Epoch: 840 | Loss: 0.029855191707611084 | Test Loss: 0.0697331428527832\n",
            "Epoch: 850 | Loss: 0.029511287808418274 | Test Loss: 0.0689057856798172\n",
            "Epoch: 860 | Loss: 0.02916799485683441 | Test Loss: 0.06814707070589066\n",
            "Epoch: 870 | Loss: 0.028824755921959877 | Test Loss: 0.06731969118118286\n",
            "Epoch: 880 | Loss: 0.02848084643483162 | Test Loss: 0.06649234890937805\n",
            "Epoch: 890 | Loss: 0.02813773788511753 | Test Loss: 0.06573362648487091\n",
            "Epoch: 900 | Loss: 0.027794325724244118 | Test Loss: 0.06490625441074371\n",
            "Epoch: 910 | Loss: 0.02745041623711586 | Test Loss: 0.06407888978719711\n",
            "Epoch: 920 | Loss: 0.0271074827760458 | Test Loss: 0.06332017481327057\n",
            "Epoch: 930 | Loss: 0.026763886213302612 | Test Loss: 0.062492817640304565\n",
            "Epoch: 940 | Loss: 0.02642008289694786 | Test Loss: 0.06173409894108772\n",
            "Epoch: 950 | Loss: 0.02607722207903862 | Test Loss: 0.06090673804283142\n",
            "Epoch: 960 | Loss: 0.025733450427651405 | Test Loss: 0.06007937341928482\n",
            "Epoch: 970 | Loss: 0.02538982965052128 | Test Loss: 0.05932066589593887\n",
            "Epoch: 980 | Loss: 0.02504691109061241 | Test Loss: 0.058493297547101974\n",
            "Epoch: 990 | Loss: 0.0247030109167099 | Test Loss: 0.057665932923555374\n"
          ]
        }
      ]
    },
    {
      "cell_type": "code",
      "source": [
        "with torch.inference_mode():\n",
        "  y_preds= model_0(X_test);\n",
        "\n",
        "\n",
        "plot_prediction(predictions=y_preds)"
      ],
      "metadata": {
        "colab": {
          "base_uri": "https://localhost:8080/",
          "height": 599
        },
        "id": "lzLK50pTtmHz",
        "outputId": "da7428d1-717c-416a-e5cc-aa96ad99bb64"
      },
      "execution_count": 212,
      "outputs": [
        {
          "output_type": "display_data",
          "data": {
            "text/plain": [
              "<Figure size 1000x700 with 1 Axes>"
            ],
            "image/png": "[encoded data removed]"
          },
          "metadata": {}
        }
      ]
    },
    {
      "cell_type": "code",
      "source": [
        "model_0.state_dict()"
      ],
      "metadata": {
        "colab": {
          "base_uri": "https://localhost:8080/"
        },
        "id": "IinVc51IuP0X",
        "outputId": "646ed218-ee38-4bfd-db69-50a5e0a2c0c3"
      },
      "execution_count": 213,
      "outputs": [
        {
          "output_type": "execute_result",
          "data": {
            "text/plain": [
              "OrderedDict([('weights', tensor([0.5788])), ('bias', tensor([0.3509]))])"
            ]
          },
          "metadata": {},
          "execution_count": 213
        }
      ]
    },
    {
      "cell_type": "code",
      "source": [
        "plt.plot(epoch_count,train_loss_values,label=\"Train Loss\");\n",
        "plt.plot(epoch_count, test_loss_values,label=\"Test Loss\");\n",
        "plt.title(\"Training and Test Loss curvers\");\n",
        "plt.ylabel(\"Loss\")\n",
        "plt.xlabel(\"Epochs\")\n",
        "plt.legend()\n"
      ],
      "metadata": {
        "colab": {
          "base_uri": "https://localhost:8080/",
          "height": 489
        },
        "id": "9bH1-lXpwmRf",
        "outputId": "670c47b3-b551-4dd2-ef4e-b110c527c440"
      },
      "execution_count": 214,
      "outputs": [
        {
          "output_type": "execute_result",
          "data": {
            "text/plain": [
              "<matplotlib.legend.Legend at 0x7f7d3e357e50>"
            ]
          },
          "metadata": {},
          "execution_count": 214
        },
        {
          "output_type": "display_data",
          "data": {
            "text/plain": [
              "<Figure size 640x480 with 1 Axes>"
            ],
            "image/png": "[encoded data removed]"
          },
          "metadata": {}
        }
      ]
    }
  ]
}
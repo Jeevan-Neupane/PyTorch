{
  "nbformat": 4,
  "nbformat_minor": 0,
  "metadata": {
    "colab": {
      "provenance": [],
      "authorship_tag": "ABX9TyO29nJ8iD+Ku133R1lrJ5HC",
      "include_colab_link": true
    },
    "kernelspec": {
      "name": "python3",
      "display_name": "Python 3"
    },
    "language_info": {
      "name": "python"
    }
  },
  "cells": [
    {
      "cell_type": "markdown",
      "metadata": {
        "id": "view-in-github",
        "colab_type": "text"
      },
      "source": [
        "<a href=\"https://colab.research.google.com/github/Jeevan-Neupane/PyTorch/blob/main/02_Pytorch_Workflow.ipynb\" target=\"_parent\"><img src=\"https://colab.research.google.com/assets/colab-badge.svg\" alt=\"Open In Colab\"/></a>"
      ]
    },
    {
      "cell_type": "markdown",
      "source": [
        "#Pytorch Workflow"
      ],
      "metadata": {
        "id": "RtfMljkSPVD7"
      }
    },
    {
      "cell_type": "markdown",
      "source": [
        "## What we are covering"
      ],
      "metadata": {
        "id": "2JeIuZwZRWvP"
      }
    },
    {
      "cell_type": "code",
      "source": [
        "what_we_are_covering= {\n",
        "    1:\"Data (Prepare and load)\",\n",
        "    2:\"build model\",\n",
        "    3:\"fitting the model to data(training)\",\n",
        "    4:\"making predictions  and evaluating a model(inference)\",\n",
        "    5:\"saving and loading a model\",\n",
        "    6:\"putting it all together\"\n",
        "}\n"
      ],
      "metadata": {
        "id": "XhnaJIR4RY6t"
      },
      "execution_count": null,
      "outputs": []
    },
    {
      "cell_type": "code",
      "source": [
        "what_we_are_covering"
      ],
      "metadata": {
        "colab": {
          "base_uri": "https://localhost:8080/"
        },
        "id": "j1XxqY44R1Jm",
        "outputId": "dde97061-5506-4abe-e93d-2a6e9adf59df"
      },
      "execution_count": null,
      "outputs": [
        {
          "output_type": "execute_result",
          "data": {
            "text/plain": [
              "{1: 'Data (Prepare and load)',\n",
              " 2: 'build model',\n",
              " 3: 'fitting the model to data(training)',\n",
              " 4: 'making predictions  and evaluating a model(inference)',\n",
              " 5: 'saving and loading a model',\n",
              " 6: 'putting it all together'}"
            ]
          },
          "metadata": {},
          "execution_count": 2
        }
      ]
    },
    {
      "cell_type": "code",
      "source": [
        "import torch\n",
        "from torch import nn\n",
        "import matplotlib.pyplot as plt\n",
        "\n",
        "torch.__version__"
      ],
      "metadata": {
        "colab": {
          "base_uri": "https://localhost:8080/",
          "height": 37
        },
        "id": "pcmQlhmhR2pm",
        "outputId": "bd192e14-79ec-418a-c04b-7812df9414a4"
      },
      "execution_count": null,
      "outputs": [
        {
          "output_type": "execute_result",
          "data": {
            "text/plain": [
              "'2.5.1+cu121'"
            ],
            "application/vnd.google.colaboratory.intrinsic+json": {
              "type": "string"
            }
          },
          "metadata": {},
          "execution_count": 3
        }
      ]
    },
    {
      "cell_type": "markdown",
      "source": [
        "## 01. Data (Preparing and Loading)"
      ],
      "metadata": {
        "id": "BXkdlRF4Si2l"
      }
    },
    {
      "cell_type": "markdown",
      "source": [
        "### To show the two steps of ML\n",
        "### We are going to create some known data using the linear regression formula\n"
      ],
      "metadata": {
        "id": "jHNo_bloSlfW"
      }
    },
    {
      "cell_type": "code",
      "source": [
        "# Create *known* parameter\n",
        "weight = 0.7\n",
        "bias = 0.3\n",
        "\n",
        "start =0\n",
        "end=1\n",
        "step =0.02\n",
        "X= torch.arange(start,end,step).unsqueeze(dim=1)\n",
        "y = weight * X+bias\n",
        "y[:10]"
      ],
      "metadata": {
        "colab": {
          "base_uri": "https://localhost:8080/"
        },
        "id": "y6LI1XKUTyQE",
        "outputId": "0f91ee56-a54b-40f9-d94a-9e2c15d8efed"
      },
      "execution_count": null,
      "outputs": [
        {
          "output_type": "execute_result",
          "data": {
            "text/plain": [
              "tensor([[0.3000],\n",
              "        [0.3140],\n",
              "        [0.3280],\n",
              "        [0.3420],\n",
              "        [0.3560],\n",
              "        [0.3700],\n",
              "        [0.3840],\n",
              "        [0.3980],\n",
              "        [0.4120],\n",
              "        [0.4260]])"
            ]
          },
          "metadata": {},
          "execution_count": 4
        }
      ]
    },
    {
      "cell_type": "code",
      "source": [
        "len(X),len(y)"
      ],
      "metadata": {
        "colab": {
          "base_uri": "https://localhost:8080/"
        },
        "id": "3JDwJgJoUFaM",
        "outputId": "52017768-096c-49bd-c0ea-bb83d42305aa"
      },
      "execution_count": null,
      "outputs": [
        {
          "output_type": "execute_result",
          "data": {
            "text/plain": [
              "(50, 50)"
            ]
          },
          "metadata": {},
          "execution_count": 5
        }
      ]
    },
    {
      "cell_type": "markdown",
      "source": [
        "### Split into train and test"
      ],
      "metadata": {
        "id": "vY5O4a9bUsvD"
      }
    },
    {
      "cell_type": "code",
      "source": [
        "train_split  = int(0.8 *len(X));\n",
        "train_split"
      ],
      "metadata": {
        "colab": {
          "base_uri": "https://localhost:8080/"
        },
        "id": "b3imD52UWMGY",
        "outputId": "ae13000e-ad02-4b22-c31c-b070b677370b"
      },
      "execution_count": null,
      "outputs": [
        {
          "output_type": "execute_result",
          "data": {
            "text/plain": [
              "40"
            ]
          },
          "metadata": {},
          "execution_count": 6
        }
      ]
    },
    {
      "cell_type": "code",
      "source": [
        "X_train, y_train = X[:train_split], y[:train_split]\n",
        "X_test, y_test = X[train_split:], y[train_split:]\n",
        "\n",
        "X_test, y_test"
      ],
      "metadata": {
        "colab": {
          "base_uri": "https://localhost:8080/"
        },
        "id": "6s_ByW2NWUmg",
        "outputId": "7fd31ee0-7118-46fd-d9a6-69110c045f31"
      },
      "execution_count": null,
      "outputs": [
        {
          "output_type": "execute_result",
          "data": {
            "text/plain": [
              "(tensor([[0.8000],\n",
              "         [0.8200],\n",
              "         [0.8400],\n",
              "         [0.8600],\n",
              "         [0.8800],\n",
              "         [0.9000],\n",
              "         [0.9200],\n",
              "         [0.9400],\n",
              "         [0.9600],\n",
              "         [0.9800]]),\n",
              " tensor([[0.8600],\n",
              "         [0.8740],\n",
              "         [0.8880],\n",
              "         [0.9020],\n",
              "         [0.9160],\n",
              "         [0.9300],\n",
              "         [0.9440],\n",
              "         [0.9580],\n",
              "         [0.9720],\n",
              "         [0.9860]]))"
            ]
          },
          "metadata": {},
          "execution_count": 7
        }
      ]
    },
    {
      "cell_type": "code",
      "source": [
        "len(X_train),len(y_train),len(X_test),len(y_test)"
      ],
      "metadata": {
        "colab": {
          "base_uri": "https://localhost:8080/"
        },
        "id": "fFvfzbw1WoEB",
        "outputId": "4406f451-ca0c-4cf4-e1d3-b905d6058f4d"
      },
      "execution_count": null,
      "outputs": [
        {
          "output_type": "execute_result",
          "data": {
            "text/plain": [
              "(40, 40, 10, 10)"
            ]
          },
          "metadata": {},
          "execution_count": 8
        }
      ]
    },
    {
      "cell_type": "markdown",
      "source": [
        "### Visualize our data"
      ],
      "metadata": {
        "id": "T6umuHhPWvBA"
      }
    },
    {
      "cell_type": "code",
      "source": [
        "def plot_prediction(train_data=X_train,train_labels=y_train,test_data=X_test, test_labels=  y_test, predictions=None):\n",
        "  plt.figure(figsize=(10,7));\n",
        "  #Plot the training data\n",
        "  plt.scatter(train_data, train_labels,c=\"b\",s=4,label=\"Training Data\");\n",
        "  #Plot the test data\n",
        "  plt.scatter(test_data,test_labels,c=\"g\",s=4,label=\"Testing data\");\n",
        "\n",
        "  #If predictions are provided\n",
        "  if predictions is not None:\n",
        "    plt.scatter(test_data,predictions,c=\"r\",s=4,label=\"Predictions\");\n",
        "\n",
        "  plt.legend(prop={\"size\":14})\n"
      ],
      "metadata": {
        "id": "_jJlDOmKXC32"
      },
      "execution_count": null,
      "outputs": []
    },
    {
      "cell_type": "code",
      "source": [
        "plot_prediction()"
      ],
      "metadata": {
        "colab": {
          "base_uri": "https://localhost:8080/",
          "height": 599
        },
        "id": "_mnuz1Z0YYGe",
        "outputId": "fa3914ea-ad41-4ea6-e07c-e7c73fb98d11"
      },
      "execution_count": null,
      "outputs": [
        {
          "output_type": "display_data",
          "data": {
            "text/plain": [
              "<Figure size 1000x700 with 1 Axes>"
            ],
            "image/png": "[encoded data removed]"
          },
          "metadata": {}
        }
      ]
    },
    {
      "cell_type": "markdown",
      "source": [
        "## 02. Building a Model For Linear Regression"
      ],
      "metadata": {
        "id": "68OfosDKYaOG"
      }
    },
    {
      "cell_type": "code",
      "source": [
        "class LinearRegressionModel(nn.Module):\n",
        "    def __init__(self):\n",
        "        super().__init__()\n",
        "        self.weights = nn.Parameter(torch.randn(1, dtype=torch.float), requires_grad=True)\n",
        "        self.bias = nn.Parameter(torch.randn(1, dtype=torch.float), requires_grad=True)\n",
        "\n",
        "    def forward(self, x: torch.Tensor) -> torch.Tensor:\n",
        "        return self.weights * x + self.bias\n"
      ],
      "metadata": {
        "id": "St-l4cQPZGf3"
      },
      "execution_count": null,
      "outputs": []
    },
    {
      "cell_type": "markdown",
      "source": [
        "### Checking the contents of our pytorch model\n",
        "\n"
      ],
      "metadata": {
        "id": "MLqryX4kV8rg"
      }
    },
    {
      "cell_type": "code",
      "source": [
        "torch.manual_seed(42);\n",
        "\n",
        "model_0 = LinearRegressionModel();\n",
        "list(model_0.parameters())"
      ],
      "metadata": {
        "colab": {
          "base_uri": "https://localhost:8080/"
        },
        "id": "kfgLZEVAYffc",
        "outputId": "8aa57565-00ef-4d12-e90d-9095fa390dff"
      },
      "execution_count": null,
      "outputs": [
        {
          "output_type": "execute_result",
          "data": {
            "text/plain": [
              "[Parameter containing:\n",
              " tensor([0.3367], requires_grad=True),\n",
              " Parameter containing:\n",
              " tensor([0.1288], requires_grad=True)]"
            ]
          },
          "metadata": {},
          "execution_count": 12
        }
      ]
    },
    {
      "cell_type": "code",
      "source": [
        "#To get the state we cans use  .state_dict().\n",
        "model_0.state_dict()"
      ],
      "metadata": {
        "colab": {
          "base_uri": "https://localhost:8080/"
        },
        "id": "ZpDRgz0YYsks",
        "outputId": "e4d8c8a0-3cf1-4590-da83-cd2af8c526cc"
      },
      "execution_count": null,
      "outputs": [
        {
          "output_type": "execute_result",
          "data": {
            "text/plain": [
              "OrderedDict([('weights', tensor([0.3367])), ('bias', tensor([0.1288]))])"
            ]
          },
          "metadata": {},
          "execution_count": 13
        }
      ]
    },
    {
      "cell_type": "markdown",
      "source": [
        "### Making Predictions using `torch.inference_mode()`"
      ],
      "metadata": {
        "id": "PmRECpE6Y1rK"
      }
    },
    {
      "cell_type": "code",
      "source": [
        "# Making predictions with model\n",
        "with torch.inference_mode():\n",
        "  y_preds= model_0(X_test);\n",
        "\n",
        "y_preds"
      ],
      "metadata": {
        "colab": {
          "base_uri": "https://localhost:8080/"
        },
        "id": "mRLrOZ-RZEr-",
        "outputId": "24b6e934-5e4c-4d1b-db0f-95bdc4072783"
      },
      "execution_count": null,
      "outputs": [
        {
          "output_type": "execute_result",
          "data": {
            "text/plain": [
              "tensor([[0.3982],\n",
              "        [0.4049],\n",
              "        [0.4116],\n",
              "        [0.4184],\n",
              "        [0.4251],\n",
              "        [0.4318],\n",
              "        [0.4386],\n",
              "        [0.4453],\n",
              "        [0.4520],\n",
              "        [0.4588]])"
            ]
          },
          "metadata": {},
          "execution_count": 14
        }
      ]
    },
    {
      "cell_type": "code",
      "source": [
        "y_test"
      ],
      "metadata": {
        "colab": {
          "base_uri": "https://localhost:8080/"
        },
        "id": "R9S3_OIcafYd",
        "outputId": "9082305b-7ce8-4afd-ea51-03288f59f266"
      },
      "execution_count": null,
      "outputs": [
        {
          "output_type": "execute_result",
          "data": {
            "text/plain": [
              "tensor([[0.8600],\n",
              "        [0.8740],\n",
              "        [0.8880],\n",
              "        [0.9020],\n",
              "        [0.9160],\n",
              "        [0.9300],\n",
              "        [0.9440],\n",
              "        [0.9580],\n",
              "        [0.9720],\n",
              "        [0.9860]])"
            ]
          },
          "metadata": {},
          "execution_count": 15
        }
      ]
    },
    {
      "cell_type": "code",
      "source": [
        "plot_prediction(predictions=y_preds )"
      ],
      "metadata": {
        "colab": {
          "base_uri": "https://localhost:8080/",
          "height": 599
        },
        "id": "OG9X8OXkaiTx",
        "outputId": "a7106efb-4156-410b-833d-aa5a92e144af"
      },
      "execution_count": null,
      "outputs": [
        {
          "output_type": "display_data",
          "data": {
            "text/plain": [
              "<Figure size 1000x700 with 1 Axes>"
            ],
            "image/png": "[encoded data removed]"
          },
          "metadata": {}
        }
      ]
    },
    {
      "cell_type": "markdown",
      "source": [
        "## 3.Train Model"
      ],
      "metadata": {
        "id": "ERbpBvnlc7W3"
      }
    },
    {
      "cell_type": "markdown",
      "source": [
        "Unknown Paramter -> Know Paramter"
      ],
      "metadata": {
        "id": "00aQs64Ec_Aw"
      }
    },
    {
      "cell_type": "markdown",
      "source": [
        "Things we need to train:\n",
        "\n",
        "**Loss Functoin :** A function to measure how worng the predictions of model are\n",
        "**Optimizer**: Takes into acocount the loss of a model an adjust the model's paramter"
      ],
      "metadata": {
        "id": "jkDD08QkdBTn"
      }
    },
    {
      "cell_type": "markdown",
      "source": [
        "### Setup a loss function"
      ],
      "metadata": {
        "id": "7QwHKhpkduUl"
      }
    },
    {
      "cell_type": "code",
      "source": [
        "loss_fn= nn.L1Loss();\n"
      ],
      "metadata": {
        "id": "3cdWW6cofsmi"
      },
      "execution_count": null,
      "outputs": []
    },
    {
      "cell_type": "markdown",
      "source": [
        "### Setup Optimizer"
      ],
      "metadata": {
        "id": "3DRoBcMyfzGU"
      }
    },
    {
      "cell_type": "code",
      "source": [
        "optimizer = torch.optim.SGD(params=model_0.parameters(),lr=0.001) #(Stochastic gradient descent) #lr= learning rate\n",
        "\n"
      ],
      "metadata": {
        "id": "Ii-3Bfh0f14q"
      },
      "execution_count": null,
      "outputs": []
    },
    {
      "cell_type": "markdown",
      "source": [
        "### Training and Testing Loop"
      ],
      "metadata": {
        "id": "n6X393nfhfTE"
      }
    },
    {
      "cell_type": "code",
      "source": [
        "model_0.state_dict()"
      ],
      "metadata": {
        "colab": {
          "base_uri": "https://localhost:8080/"
        },
        "id": "-71UNpbIqIqA",
        "outputId": "cd5f2480-6486-43a1-b2ce-58b1c52459e6"
      },
      "execution_count": null,
      "outputs": [
        {
          "output_type": "execute_result",
          "data": {
            "text/plain": [
              "OrderedDict([('weights', tensor([0.3367])), ('bias', tensor([0.1288]))])"
            ]
          },
          "metadata": {},
          "execution_count": 19
        }
      ]
    },
    {
      "cell_type": "code",
      "source": [
        "weight,bias"
      ],
      "metadata": {
        "colab": {
          "base_uri": "https://localhost:8080/"
        },
        "id": "JAAZSlobqaf-",
        "outputId": "3dfa076d-f270-48b5-f455-54236b55c4ab"
      },
      "execution_count": null,
      "outputs": [
        {
          "output_type": "execute_result",
          "data": {
            "text/plain": [
              "(0.7, 0.3)"
            ]
          },
          "metadata": {},
          "execution_count": 20
        }
      ]
    },
    {
      "cell_type": "code",
      "source": [
        " #Training Loop\n",
        "torch.manual_seed(42)\n",
        "\n",
        "epoch_count=[];\n",
        "train_loss_values=[];\n",
        "test_loss_values=[];\n",
        "\n",
        "epochs = 1000\n",
        "\n",
        "for epoch in range(epochs):\n",
        "\n",
        "  #Set the model to training mode\n",
        "  model_0.train();\n",
        "\n",
        "  #1. Forward Pass\n",
        "  y_pred= model_0(X_train);\n",
        "\n",
        "  #2 . Calculate the loss\n",
        "  loss = loss_fn(y_pred,y_train);\n",
        "  # print(f\"Loss at epoch {epoch} : {loss}\");\n",
        "\n",
        "\n",
        "  #3. Optimizer zero grad\n",
        "  optimizer.zero_grad();\n",
        "\n",
        "  #4. Perform backpropagation on the loss with respect tot he paramter of the model\n",
        "  loss.backward();\n",
        "\n",
        "  # 5. Step the optimizer (perform gradient descent)\n",
        "  optimizer.step();\n",
        "\n",
        "  model_0.eval(); #turns of gradient tracking\n",
        "\n",
        "  with torch.inference_mode():\n",
        "    #1. Do the forward pass\n",
        "    test_pred = model_0(X_test)\n",
        "\n",
        "    #2. Calculate the loss\n",
        "    test_loss = loss_fn(test_pred,y_test);\n",
        "\n",
        "    if epoch % 10 == 0:\n",
        "      print(f\"Epoch: {epoch} | Loss: {loss} | Test Loss: {test_loss}\")\n",
        "      epoch_count.append(epoch);\n",
        "      train_loss_values.append(loss.detach().numpy());\n",
        "      test_loss_values.append(test_loss.detach().numpy());\n",
        "\n"
      ],
      "metadata": {
        "colab": {
          "base_uri": "https://localhost:8080/"
        },
        "id": "8knkBQTCrlg9",
        "outputId": "ffe518aa-3151-4ba0-e34a-f8f3fd92b23a"
      },
      "execution_count": null,
      "outputs": [
        {
          "output_type": "stream",
          "name": "stdout",
          "text": [
            "Epoch: 0 | Loss: 0.02435956709086895 | Test Loss: 0.05690721794962883\n",
            "Epoch: 10 | Loss: 0.024016480892896652 | Test Loss: 0.05607985332608223\n",
            "Epoch: 20 | Loss: 0.02367258258163929 | Test Loss: 0.055252473801374435\n",
            "Epoch: 30 | Loss: 0.023329313844442368 | Test Loss: 0.054493773728609085\n",
            "Epoch: 40 | Loss: 0.022986043244600296 | Test Loss: 0.05366641283035278\n",
            "Epoch: 50 | Loss: 0.022642139345407486 | Test Loss: 0.05283904820680618\n",
            "Epoch: 60 | Loss: 0.02229905314743519 | Test Loss: 0.05208033323287964\n",
            "Epoch: 70 | Loss: 0.02195560745894909 | Test Loss: 0.05125296115875244\n",
            "Epoch: 80 | Loss: 0.021611705422401428 | Test Loss: 0.05042559653520584\n",
            "Epoch: 90 | Loss: 0.021268798038363457 | Test Loss: 0.0496668815612793\n",
            "Epoch: 100 | Loss: 0.02092517353594303 | Test Loss: 0.0488395169377327\n",
            "Epoch: 110 | Loss: 0.020581401884555817 | Test Loss: 0.04808080196380615\n",
            "Epoch: 120 | Loss: 0.020238537341356277 | Test Loss: 0.047253452241420746\n",
            "Epoch: 130 | Loss: 0.019894743338227272 | Test Loss: 0.04642607644200325\n",
            "Epoch: 140 | Loss: 0.019551146775484085 | Test Loss: 0.0456673689186573\n",
            "Epoch: 150 | Loss: 0.019208211451768875 | Test Loss: 0.04483998939394951\n",
            "Epoch: 160 | Loss: 0.018864300101995468 | Test Loss: 0.044012635946273804\n",
            "Epoch: 170 | Loss: 0.018520886078476906 | Test Loss: 0.04325391724705696\n",
            "Epoch: 180 | Loss: 0.01817776821553707 | Test Loss: 0.04242655634880066\n",
            "Epoch: 190 | Loss: 0.01783386431634426 | Test Loss: 0.04159919545054436\n",
            "Epoch: 200 | Loss: 0.017490629106760025 | Test Loss: 0.04084048420190811\n",
            "Epoch: 210 | Loss: 0.017147328704595566 | Test Loss: 0.040013112127780914\n",
            "Epoch: 220 | Loss: 0.016803432255983353 | Test Loss: 0.03918575122952461\n",
            "Epoch: 230 | Loss: 0.016460370272397995 | Test Loss: 0.03842703625559807\n",
            "Epoch: 240 | Loss: 0.016116898506879807 | Test Loss: 0.03759966418147087\n",
            "Epoch: 250 | Loss: 0.015772998332977295 | Test Loss: 0.036772288382053375\n",
            "Epoch: 260 | Loss: 0.01543011236935854 | Test Loss: 0.03601359575986862\n",
            "Epoch: 270 | Loss: 0.015086461789906025 | Test Loss: 0.03518623113632202\n",
            "Epoch: 280 | Loss: 0.014742719009518623 | Test Loss: 0.03442750498652458\n",
            "Epoch: 290 | Loss: 0.014399850741028786 | Test Loss: 0.03360014408826828\n",
            "Epoch: 300 | Loss: 0.014056024141609669 | Test Loss: 0.03277278691530228\n",
            "Epoch: 310 | Loss: 0.013712462969124317 | Test Loss: 0.03201407939195633\n",
            "Epoch: 320 | Loss: 0.013369491323828697 | Test Loss: 0.031186699867248535\n",
            "Epoch: 330 | Loss: 0.01302559394389391 | Test Loss: 0.030359338968992233\n",
            "Epoch: 340 | Loss: 0.012682202272117138 | Test Loss: 0.029600614681839943\n",
            "Epoch: 350 | Loss: 0.012339059263467789 | Test Loss: 0.028773266822099686\n",
            "Epoch: 360 | Loss: 0.011995160952210426 | Test Loss: 0.02794589474797249\n",
            "Epoch: 370 | Loss: 0.011651946231722832 | Test Loss: 0.02718718722462654\n",
            "Epoch: 380 | Loss: 0.011308628134429455 | Test Loss: 0.026359815150499344\n",
            "Epoch: 390 | Loss: 0.010964717715978622 | Test Loss: 0.025532448664307594\n",
            "Epoch: 400 | Loss: 0.010621682740747929 | Test Loss: 0.0247737355530262\n",
            "Epoch: 410 | Loss: 0.010278185829520226 | Test Loss: 0.023946374654769897\n",
            "Epoch: 420 | Loss: 0.009934291243553162 | Test Loss: 0.023187648504972458\n",
            "Epoch: 430 | Loss: 0.009591431356966496 | Test Loss: 0.0223603006452322\n",
            "Epoch: 440 | Loss: 0.00924774818122387 | Test Loss: 0.021532922983169556\n",
            "Epoch: 450 | Loss: 0.008904037065804005 | Test Loss: 0.020774226635694504\n",
            "Epoch: 460 | Loss: 0.008561169728636742 | Test Loss: 0.019946854561567307\n",
            "Epoch: 470 | Loss: 0.008217317052185535 | Test Loss: 0.01911948248744011\n",
            "Epoch: 480 | Loss: 0.007873778231441975 | Test Loss: 0.018360769376158714\n",
            "Epoch: 490 | Loss: 0.0075307851657271385 | Test Loss: 0.01753341034054756\n",
            "Epoch: 500 | Loss: 0.007186878472566605 | Test Loss: 0.01670604944229126\n",
            "Epoch: 510 | Loss: 0.006843519397079945 | Test Loss: 0.01594732329249382\n",
            "Epoch: 520 | Loss: 0.006500349845737219 | Test Loss: 0.015119964256882668\n",
            "Epoch: 530 | Loss: 0.006156443618237972 | Test Loss: 0.014292603358626366\n",
            "Epoch: 540 | Loss: 0.005813261028379202 | Test Loss: 0.013533895835280418\n",
            "Epoch: 550 | Loss: 0.005469909869134426 | Test Loss: 0.012706518173217773\n",
            "Epoch: 560 | Loss: 0.0051260096952319145 | Test Loss: 0.011879158206284046\n",
            "Epoch: 570 | Loss: 0.004782737232744694 | Test Loss: 0.011086148209869862\n",
            "Epoch: 580 | Loss: 0.004439301788806915 | Test Loss: 0.010327416472136974\n",
            "Epoch: 590 | Loss: 0.004096207674592733 | Test Loss: 0.0095000509172678\n",
            "Epoch: 600 | Loss: 0.003752306802198291 | Test Loss: 0.008672690019011497\n",
            "Epoch: 610 | Loss: 0.0034090480767190456 | Test Loss: 0.007913952693343163\n",
            "Epoch: 620 | Loss: 0.0030657730530947447 | Test Loss: 0.007086604833602905\n",
            "Epoch: 630 | Loss: 0.0027218691539019346 | Test Loss: 0.006259244866669178\n",
            "Epoch: 640 | Loss: 0.0023787864483892918 | Test Loss: 0.005500525236129761\n",
            "Epoch: 650 | Loss: 0.002035337733104825 | Test Loss: 0.004673170857131481\n",
            "Epoch: 660 | Loss: 0.0016914367442950606 | Test Loss: 0.0038457990158349276\n",
            "Epoch: 670 | Loss: 0.0013485297095030546 | Test Loss: 0.0030870854388922453\n",
            "Epoch: 680 | Loss: 0.0010049014817923307 | Test Loss: 0.002259713364765048\n",
            "Epoch: 690 | Loss: 0.0006616368773393333 | Test Loss: 0.0014667033683508635\n",
            "Epoch: 700 | Loss: 0.0003177322505507618 | Test Loss: 0.0006393313524313271\n",
            "Epoch: 710 | Loss: 0.0004444979131221771 | Test Loss: 0.0005780101055279374\n",
            "Epoch: 720 | Loss: 0.0004444979131221771 | Test Loss: 0.0005780101055279374\n",
            "Epoch: 730 | Loss: 0.0004444979131221771 | Test Loss: 0.0005780101055279374\n",
            "Epoch: 740 | Loss: 0.0004444979131221771 | Test Loss: 0.0005780101055279374\n",
            "Epoch: 750 | Loss: 0.0004444979131221771 | Test Loss: 0.0005780101055279374\n",
            "Epoch: 760 | Loss: 0.0004444979131221771 | Test Loss: 0.0005780101055279374\n",
            "Epoch: 770 | Loss: 0.0004444979131221771 | Test Loss: 0.0005780101055279374\n",
            "Epoch: 780 | Loss: 0.0004444979131221771 | Test Loss: 0.0005780101055279374\n",
            "Epoch: 790 | Loss: 0.0004444979131221771 | Test Loss: 0.0005780101055279374\n",
            "Epoch: 800 | Loss: 0.0004444979131221771 | Test Loss: 0.0005780101055279374\n",
            "Epoch: 810 | Loss: 0.0004444979131221771 | Test Loss: 0.0005780101055279374\n",
            "Epoch: 820 | Loss: 0.0004444979131221771 | Test Loss: 0.0005780101055279374\n",
            "Epoch: 830 | Loss: 0.0004444979131221771 | Test Loss: 0.0005780101055279374\n",
            "Epoch: 840 | Loss: 0.0004444979131221771 | Test Loss: 0.0005780101055279374\n",
            "Epoch: 850 | Loss: 0.0004444979131221771 | Test Loss: 0.0005780101055279374\n",
            "Epoch: 860 | Loss: 0.0004444979131221771 | Test Loss: 0.0005780101055279374\n",
            "Epoch: 870 | Loss: 0.0004444979131221771 | Test Loss: 0.0005780101055279374\n",
            "Epoch: 880 | Loss: 0.0004444979131221771 | Test Loss: 0.0005780101055279374\n",
            "Epoch: 890 | Loss: 0.0004444979131221771 | Test Loss: 0.0005780101055279374\n",
            "Epoch: 900 | Loss: 0.0004444979131221771 | Test Loss: 0.0005780101055279374\n",
            "Epoch: 910 | Loss: 0.0004444979131221771 | Test Loss: 0.0005780101055279374\n",
            "Epoch: 920 | Loss: 0.0004444979131221771 | Test Loss: 0.0005780101055279374\n",
            "Epoch: 930 | Loss: 0.0004444979131221771 | Test Loss: 0.0005780101055279374\n",
            "Epoch: 940 | Loss: 0.0004444979131221771 | Test Loss: 0.0005780101055279374\n",
            "Epoch: 950 | Loss: 0.0004444979131221771 | Test Loss: 0.0005780101055279374\n",
            "Epoch: 960 | Loss: 0.0004444979131221771 | Test Loss: 0.0005780101055279374\n",
            "Epoch: 970 | Loss: 0.0004444979131221771 | Test Loss: 0.0005780101055279374\n",
            "Epoch: 980 | Loss: 0.0004444979131221771 | Test Loss: 0.0005780101055279374\n",
            "Epoch: 990 | Loss: 0.0004444979131221771 | Test Loss: 0.0005780101055279374\n"
          ]
        }
      ]
    },
    {
      "cell_type": "code",
      "source": [
        "with torch.inference_mode():\n",
        "  y_preds= model_0(X_test);\n",
        "\n",
        "\n",
        "plot_prediction(predictions=y_preds)"
      ],
      "metadata": {
        "colab": {
          "base_uri": "https://localhost:8080/",
          "height": 599
        },
        "id": "lzLK50pTtmHz",
        "outputId": "9366b555-ff00-4ca2-caba-7ffbb0689172"
      },
      "execution_count": null,
      "outputs": [
        {
          "output_type": "display_data",
          "data": {
            "text/plain": [
              "<Figure size 1000x700 with 1 Axes>"
            ],
            "image/png": "[encoded data removed]"
          },
          "metadata": {}
        }
      ]
    },
    {
      "cell_type": "code",
      "source": [
        "model_0.state_dict()"
      ],
      "metadata": {
        "colab": {
          "base_uri": "https://localhost:8080/"
        },
        "id": "IinVc51IuP0X",
        "outputId": "d6330d2c-2ac3-44f1-b75b-ee2ec7dd7d7b"
      },
      "execution_count": null,
      "outputs": [
        {
          "output_type": "execute_result",
          "data": {
            "text/plain": [
              "OrderedDict([('weights', tensor([0.6994])), ('bias', tensor([0.2998]))])"
            ]
          },
          "metadata": {},
          "execution_count": 30
        }
      ]
    },
    {
      "cell_type": "code",
      "source": [
        "plt.plot(epoch_count,train_loss_values,label=\"Train Loss\");\n",
        "plt.plot(epoch_count, test_loss_values,label=\"Test Loss\");\n",
        "plt.title(\"Training and Test Loss curvers\");\n",
        "plt.ylabel(\"Loss\")\n",
        "plt.xlabel(\"Epochs\")\n",
        "plt.legend()\n"
      ],
      "metadata": {
        "colab": {
          "base_uri": "https://localhost:8080/",
          "height": 489
        },
        "id": "9bH1-lXpwmRf",
        "outputId": "636276ce-0468-4a2c-d793-859a66daebf1"
      },
      "execution_count": null,
      "outputs": [
        {
          "output_type": "execute_result",
          "data": {
            "text/plain": [
              "<matplotlib.legend.Legend at 0x7d3f6ce52fb0>"
            ]
          },
          "metadata": {},
          "execution_count": 31
        },
        {
          "output_type": "display_data",
          "data": {
            "text/plain": [
              "<Figure size 640x480 with 1 Axes>"
            ],
            "image/png": "[encoded data removed]"
          },
          "metadata": {}
        }
      ]
    },
    {
      "cell_type": "markdown",
      "source": [
        "## Saving and Loading a Model in Pytorch"
      ],
      "metadata": {
        "id": "QTgWNw_8glSe"
      }
    },
    {
      "cell_type": "markdown",
      "source": [
        "### Saving It"
      ],
      "metadata": {
        "id": "vr1_MPwCj7UB"
      }
    },
    {
      "cell_type": "code",
      "source": [
        "from pathlib import Path\n",
        "\n",
        "#Create Models Directory\n",
        "\n",
        "MODEL_PATH = Path(\"models\");\n",
        "\n",
        "MODEL_PATH.mkdir(parents=True,exist_ok=True)\n",
        "\n",
        "# 2. Create model save path\n",
        "\n",
        "MODEL_NAME = \"02_Pytorch_Workflow_Model.pth\"\n",
        "MODEL_SAVE_PATH = MODEL_PATH/MODEL_NAME\n",
        "\n",
        "# save the model state dict\n",
        "\n",
        "torch.save(obj=model_0.state_dict(),f=MODEL_SAVE_PATH)"
      ],
      "metadata": {
        "id": "KRC20u6HiVhc"
      },
      "execution_count": null,
      "outputs": []
    },
    {
      "cell_type": "markdown",
      "source": [
        "### Loading It"
      ],
      "metadata": {
        "id": "s13RPHRRjl4C"
      }
    },
    {
      "cell_type": "code",
      "source": [
        "# To ladin in a saved state_dict we have to instantitate  a new instance of our model class\n",
        "\n",
        "loaded_model_0 = LinearRegressionModel();\n",
        "\n",
        "# Load the saved state_dict of model_0 (this will update the new instance with updated parameter);\n",
        "\n",
        "loaded_model_0.load_state_dict(torch.load(f=MODEL_SAVE_PATH));"
      ],
      "metadata": {
        "colab": {
          "base_uri": "https://localhost:8080/"
        },
        "id": "jNZULSJej-wg",
        "outputId": "192cc8e8-4547-4b67-efa9-51fbb7f215df"
      },
      "execution_count": null,
      "outputs": [
        {
          "output_type": "stream",
          "name": "stderr",
          "text": [
            "<ipython-input-33-0166859ab349>:7: FutureWarning: You are using `torch.load` with `weights_only=False` (the current default value), which uses the default pickle module implicitly. It is possible to construct malicious pickle data which will execute arbitrary code during unpickling (See https://github.com/pytorch/pytorch/blob/main/SECURITY.md#untrusted-models for more details). In a future release, the default value for `weights_only` will be flipped to `True`. This limits the functions that could be executed during unpickling. Arbitrary objects will no longer be allowed to be loaded via this mode unless they are explicitly allowlisted by the user via `torch.serialization.add_safe_globals`. We recommend you start setting `weights_only=True` for any use case where you don't have full control of the loaded file. Please open an issue on GitHub for any issues related to this experimental feature.\n",
            "  loaded_model_0.load_state_dict(torch.load(f=MODEL_SAVE_PATH));\n"
          ]
        }
      ]
    },
    {
      "cell_type": "code",
      "source": [
        "loaded_model_0.state_dict()"
      ],
      "metadata": {
        "colab": {
          "base_uri": "https://localhost:8080/"
        },
        "id": "Sb5Cs8b6k7IG",
        "outputId": "69b26896-3129-4068-88c0-a83b925b1453"
      },
      "execution_count": null,
      "outputs": [
        {
          "output_type": "execute_result",
          "data": {
            "text/plain": [
              "OrderedDict([('weights', tensor([0.6994])), ('bias', tensor([0.2998]))])"
            ]
          },
          "metadata": {},
          "execution_count": 34
        }
      ]
    },
    {
      "cell_type": "markdown",
      "source": [
        "### Making some predictions with our loadedmodel"
      ],
      "metadata": {
        "id": "R0mACaIblKSZ"
      }
    },
    {
      "cell_type": "code",
      "source": [
        "loaded_model_0.eval();\n",
        "\n",
        "with torch.inference_mode():\n",
        "  loaded_model_preds = loaded_model_0(X_test)"
      ],
      "metadata": {
        "id": "7LGf1bKMlOXG"
      },
      "execution_count": null,
      "outputs": []
    },
    {
      "cell_type": "code",
      "source": [
        "y_preds == loaded_model_preds"
      ],
      "metadata": {
        "colab": {
          "base_uri": "https://localhost:8080/"
        },
        "id": "IAY0B6pXlsje",
        "outputId": "af7371d1-0538-4c67-b92d-365dc0e31e19"
      },
      "execution_count": null,
      "outputs": [
        {
          "output_type": "execute_result",
          "data": {
            "text/plain": [
              "tensor([[True],\n",
              "        [True],\n",
              "        [True],\n",
              "        [True],\n",
              "        [True],\n",
              "        [True],\n",
              "        [True],\n",
              "        [True],\n",
              "        [True],\n",
              "        [True]])"
            ]
          },
          "metadata": {},
          "execution_count": 36
        }
      ]
    },
    {
      "cell_type": "code",
      "source": [],
      "metadata": {
        "id": "Meo3BthglviW"
      },
      "execution_count": null,
      "outputs": []
    }
  ]
}